{
 "cells": [
  {
   "cell_type": "markdown",
   "id": "92419963-c617-4b8f-8abb-12734ef379ab",
   "metadata": {},
   "source": [
    "# Task 10: Your Own Exercise\n",
    "\n",
    "(10 Points)\n",
    "\n",
    "Do something exciting!"
   ]
  },
  {
   "cell_type": "code",
   "execution_count": null,
   "id": "74cdb27f-732f-4cd7-bd17-207a28183537",
   "metadata": {},
   "outputs": [],
   "source": []
  }
 ],
 "metadata": {
  "kernelspec": {
   "display_name": "Python 3 (ipykernel)",
   "language": "python",
   "name": "python3"
  },
  "language_info": {
   "codemirror_mode": {
    "name": "ipython",
    "version": 3
   },
   "file_extension": ".py",
   "mimetype": "text/x-python",
   "name": "python",
   "nbconvert_exporter": "python",
   "pygments_lexer": "ipython3",
   "version": "3.10.8"
  }
 },
 "nbformat": 4,
 "nbformat_minor": 5
}
