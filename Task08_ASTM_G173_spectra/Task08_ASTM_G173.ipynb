{
 "cells": [
  {
   "cell_type": "markdown",
   "metadata": {},
   "source": [
    "<font size=6em color=\"red\">Student Group Description</font>\n",
    "\n",
    "Update the table below with your data.\n",
    "\n",
    "| Matriculation Number | Name | Contribution in this notebook |\n",
    "| :--- | :--- | :--- |\n",
    "| 99999 | Alice Wonderland | Example: 50% of all |\n",
    "| 99998 | John Doe | Example: 50% of Task 8.2  |\n"
   ]
  },
  {
   "cell_type": "markdown",
   "metadata": {},
   "source": [
    "# Task 08: Numerical Integration of the <br>ASTM G173 Irradiance Spectra\n",
    "\n",
    "**Methods: Use Pandas to read spectral irradiance data, integrate with trapezoids.**\n",
    "\n",
    "In the lecture we introduced and implemented our own trapezoid method for numerical integration. Additionally, **numpy provides a trapezoid function** `numpy.trapz()`already which is easy to use and robust. **Use it!**\n",
    "\n",
    "**Background: PV performance assessment**\n",
    "\n",
    "The PV industry needs standardized irradiance spectra to make perfomance simulation and analyses performed by different individuals comparable. The ASTM G173 is such a standard. \n",
    "\n",
    "**Data source:** [ASTM G173 Standard Irradiance Spectra](https://www.nrel.gov/grid/solar-resource/spectra.html)\n",
    "\n",
    "https://www.nrel.gov/grid/solar-resource/spectra-am1.5.html\n",
    "\n",
    "**Use the following CSV file:** `./data/astmg173.csv` \n"
   ]
  },
  {
   "cell_type": "markdown",
   "metadata": {},
   "source": [
    "## Task 8.1: Read ASTM G173 data with Pandas.\n",
    "\n",
    "(3 Points)\n",
    "\n",
    "Reading the ASTM data was a bit of a headache. Especially the extranction of the column headers was an interesting problem which we solved together in class. \n",
    "\n",
    "I summarized our development in class in the function `ASTMG173reader()`. The input argument is the filename. The function has two return objects. It returns a nice dataframe with reasonable column names and index column as well as the list of units. \n",
    "\n",
    "**Just use the function STMG173reader()!** You do not have to understand all of its details. "
   ]
  },
  {
   "cell_type": "code",
   "execution_count": null,
   "metadata": {},
   "outputs": [],
   "source": [
    "import pandas as pd"
   ]
  },
  {
   "cell_type": "code",
   "execution_count": null,
   "metadata": {},
   "outputs": [],
   "source": [
    "#help(pd.read_csv)"
   ]
  },
  {
   "cell_type": "code",
   "execution_count": null,
   "metadata": {},
   "outputs": [],
   "source": [
    "# This is the summary of what we have developed in the lecture.\n",
    "def ASTMG173reader(filename):\n",
    "    # read the first two lines and extract units and column names.\n",
    "    infile = open(filename,\"r\")\n",
    "    title = infile.readline().strip()\n",
    "    headline = infile.readline().strip()\n",
    "    infile.close()\n",
    "    \n",
    "    mylist = headline.split(sep=\",\")\n",
    "    \n",
    "    units = []\n",
    "    col_names = []\n",
    "    \n",
    "    for s in mylist:\n",
    "        # Extract units first. \n",
    "        slist = s.split()\n",
    "        unit = slist[-1] # unit is last element of slist\n",
    "        units.append(unit)\n",
    "        namelist = slist[:-1] # we have to take care for blanks in the column name\n",
    "        name = \" \".join(namelist)\n",
    "        col_names.append(name)\n",
    "    \n",
    "    df = pd.read_csv(filename, index_col = 0, skiprows = 2, names = col_names)\n",
    "    \n",
    "    return df, units"
   ]
  },
  {
   "cell_type": "code",
   "execution_count": null,
   "metadata": {},
   "outputs": [],
   "source": [
    "# complete the code\n",
    "# filename =\n",
    "# ... = ASTMG173reader(...)\n",
    "\n",
    "# <mycode>\n",
    "filename = ...\n",
    "df, units = ASTMG173reader ...\n",
    "\n",
    "print(units)\n",
    "df.head()\n",
    "# </mycode>\n",
    "\n"
   ]
  },
  {
   "cell_type": "markdown",
   "metadata": {},
   "source": [
    "## Task 8.2: Plot the three spectra. ##\n",
    "\n",
    "(3 Points)\n",
    "\n",
    "Use the plot function which is provided by the Pandas series itself. Plot **all three series** in one diagram. Show the grid, too.\n",
    "\n",
    "**Your result should look like this:**\n",
    "\n",
    "![](astmg173_example.png)\n"
   ]
  },
  {
   "cell_type": "code",
   "execution_count": null,
   "metadata": {},
   "outputs": [],
   "source": [
    "import matplotlib.pyplot as plt"
   ]
  },
  {
   "cell_type": "code",
   "execution_count": null,
   "metadata": {},
   "outputs": [],
   "source": [
    "fig1, ax1 = plt.subplots(1,1,figsize=(6,4),dpi = 136)\n",
    "\n",
    "series1 = df[\"Etr\"]\n",
    "series1.plot(ax = ax1, label = \"Etr\")\n",
    "\n",
    "# complete the code for the other two series\n",
    "# show grid, too!\n",
    "\n",
    "# <mycode>\n",
    "series2 = df[...]\n",
    "series2.plot(ax = ..., label = \"Global tilt\")\n",
    "series3 = df[...]\n",
    "series3.plot(ax = ..., label = \"...\")\n",
    "\n",
    "ax1.grid(True)\n",
    "# </mycode>\n",
    "\n",
    "ax1.set_ylabel(r\"$E_\\lambda \\;/\\; \\mathrm{\\frac{W}{m^2 nm}}$\")\n",
    "ax1.set_xlabel(r\"$\\lambda \\;/\\; \\mathrm{nm}$\")\n",
    "ax1.legend()\n",
    "plt.show()\n",
    "fig1.savefig(\"astmg173_spectra.png\")\n"
   ]
  },
  {
   "cell_type": "markdown",
   "metadata": {},
   "source": [
    "## Task 8.3: Integrate! ##\n",
    "\n",
    "(4 Points)\n",
    "\n",
    "Use the function `np.trapz()` to integrate the three series. Read the help or documentation carefully! Notice the order of the arguments passed to the function. What comes first, second, ...?"
   ]
  },
  {
   "cell_type": "code",
   "execution_count": null,
   "metadata": {},
   "outputs": [],
   "source": [
    "import numpy as np"
   ]
  },
  {
   "cell_type": "code",
   "execution_count": null,
   "metadata": {},
   "outputs": [],
   "source": [
    "help(np.trapz)"
   ]
  },
  {
   "cell_type": "code",
   "execution_count": null,
   "metadata": {},
   "outputs": [],
   "source": [
    "x1, y1 = [series1.index, series1.values]\n",
    "\n",
    "# complete the code\n",
    "# I1 = np.trapz(...)\n",
    "# x2, y2 ...\n",
    "# I2 = np.trapz(...)\n",
    "# ...\n",
    "# I3 = np.trapz(...)\n",
    "\n",
    "# <mycode>\n",
    "I1 = np.trapz(y1,x1)\n",
    "\n",
    "\n",
    "# </mycode>\n",
    "\n",
    "print(\"I1: %8.2f\\nI2: %8.2f\\nI3: %8.2f\" % (I1, I2, I3))"
   ]
  },
  {
   "cell_type": "markdown",
   "metadata": {},
   "source": [
    "The result should be:\n",
    "```\n",
    "I1:  1347.93\n",
    "I2:  1000.37\n",
    "I3:   900.14\n",
    "```\n",
    "\n",
    "What is `I1`? This quantity has a common name. "
   ]
  },
  {
   "cell_type": "code",
   "execution_count": null,
   "metadata": {},
   "outputs": [],
   "source": []
  }
 ],
 "metadata": {
  "kernelspec": {
   "display_name": "Python 3 (ipykernel)",
   "language": "python",
   "name": "python3"
  },
  "language_info": {
   "codemirror_mode": {
    "name": "ipython",
    "version": 3
   },
   "file_extension": ".py",
   "mimetype": "text/x-python",
   "name": "python",
   "nbconvert_exporter": "python",
   "pygments_lexer": "ipython3",
   "version": "3.10.8"
  }
 },
 "nbformat": 4,
 "nbformat_minor": 4
}
